{
 "cells": [
  {
   "cell_type": "code",
   "execution_count": 1,
   "id": "15f3da47",
   "metadata": {
    "execution": {
     "iopub.execute_input": "2022-12-19T11:57:59.691171Z",
     "iopub.status.busy": "2022-12-19T11:57:59.690099Z",
     "iopub.status.idle": "2022-12-19T11:58:40.828757Z",
     "shell.execute_reply": "2022-12-19T11:58:40.824846Z",
     "shell.execute_reply.started": "2022-12-19T11:57:59.691124Z"
    },
    "tags": []
   },
   "outputs": [
    {
     "data": {
      "application/vnd.jupyter.widget-view+json": {
       "model_id": "ff7e6d2dcd76453b948687be915d1c57",
       "version_major": 2,
       "version_minor": 0
      },
      "text/plain": [
       "VBox()"
      ]
     },
     "metadata": {},
     "output_type": "display_data"
    },
    {
     "name": "stdout",
     "output_type": "stream",
     "text": [
      "Starting Spark application\n"
     ]
    },
    {
     "data": {
      "text/html": [
       "<table>\n",
       "<tr><th>ID</th><th>YARN Application ID</th><th>Kind</th><th>State</th><th>Spark UI</th><th>Driver log</th><th>Current session?</th></tr><tr><td>0</td><td>application_1671450088344_0002</td><td>pyspark</td><td>idle</td><td><a target=\"_blank\" href=\"http://ip-10-0-8-185.ec2.internal:20888/proxy/application_1671450088344_0002/\">Link</a></td><td><a target=\"_blank\" href=\"http://ip-10-0-8-185.ec2.internal:8042/node/containerlogs/container_1671450088344_0002_01_000001/livy\">Link</a></td><td>✔</td></tr></table>"
      ],
      "text/plain": [
       "<IPython.core.display.HTML object>"
      ]
     },
     "metadata": {},
     "output_type": "display_data"
    },
    {
     "data": {
      "application/vnd.jupyter.widget-view+json": {
       "model_id": "",
       "version_major": 2,
       "version_minor": 0
      },
      "text/plain": [
       "FloatProgress(value=0.0, bar_style='info', description='Progress:', layout=Layout(height='25px', width='50%'),…"
      ]
     },
     "metadata": {},
     "output_type": "display_data"
    },
    {
     "name": "stdout",
     "output_type": "stream",
     "text": [
      "SparkSession available as 'spark'.\n"
     ]
    },
    {
     "data": {
      "application/vnd.jupyter.widget-view+json": {
       "model_id": "",
       "version_major": 2,
       "version_minor": 0
      },
      "text/plain": [
       "FloatProgress(value=0.0, bar_style='info', description='Progress:', layout=Layout(height='25px', width='50%'),…"
      ]
     },
     "metadata": {},
     "output_type": "display_data"
    },
    {
     "name": "stdout",
     "output_type": "stream",
     "text": [
      "<pyspark.sql.session.SparkSession object at 0x7f4450554bd0>"
     ]
    }
   ],
   "source": [
    "spark"
   ]
  },
  {
   "cell_type": "code",
   "execution_count": 2,
   "id": "4062d0cf",
   "metadata": {
    "execution": {
     "iopub.execute_input": "2022-12-19T11:59:53.875217Z",
     "iopub.status.busy": "2022-12-19T11:59:53.874915Z",
     "iopub.status.idle": "2022-12-19T11:59:56.431556Z",
     "shell.execute_reply": "2022-12-19T11:59:56.430366Z",
     "shell.execute_reply.started": "2022-12-19T11:59:53.875191Z"
    },
    "tags": []
   },
   "outputs": [
    {
     "data": {
      "application/vnd.jupyter.widget-view+json": {
       "model_id": "378aef46fe2b4c4187f8245218866610",
       "version_major": 2,
       "version_minor": 0
      },
      "text/plain": [
       "VBox()"
      ]
     },
     "metadata": {},
     "output_type": "display_data"
    },
    {
     "data": {
      "application/vnd.jupyter.widget-view+json": {
       "model_id": "",
       "version_major": 2,
       "version_minor": 0
      },
      "text/plain": [
       "FloatProgress(value=0.0, bar_style='info', description='Progress:', layout=Layout(height='25px', width='50%'),…"
      ]
     },
     "metadata": {},
     "output_type": "display_data"
    }
   ],
   "source": [
    "#Specifying the schema instead of inferring it \n",
    "from pyspark.sql.types import StructType, StructField, IntegerType, StringType, BooleanType, DoubleType, LongType, DecimalType\n",
    "\n",
    "fileSchema = StructType(\n",
    "                        [\n",
    "                        StructField('year', IntegerType(),True),\n",
    "                        StructField('month', StringType(),True),\n",
    "                        StructField('day', IntegerType(),True),\n",
    "                        StructField('weekday', StringType(),True),\n",
    "                        StructField('hour', IntegerType(),True),\n",
    "                        StructField('atm_status', StringType(),True),\n",
    "                        StructField('atm_id', StringType(),True),\n",
    "                        StructField('atm_manufacturer', StringType(),True),\n",
    "                        StructField('atm_location', StringType(),True),\n",
    "                        StructField('atm_streetname', StringType(),True),\n",
    "                        StructField('atm_street_number', IntegerType(),True),\n",
    "                        StructField('atm_zipcode', IntegerType(),True),\n",
    "                        StructField('atm_lat', DecimalType(),True),\n",
    "                            \n",
    "                        StructField('atm_lon', DecimalType(),True),\n",
    "                        StructField('currency', StringType(),True),\n",
    "                        StructField('card_type', StringType(),True),\n",
    "                        StructField('transaction_amount', DecimalType(),True),\n",
    "                        StructField('service', StringType(),True),\n",
    "                        StructField('message_code', StringType(),True),\n",
    "                        StructField('message_text', StringType(),True),\n",
    "                            \n",
    "                        StructField('weather_lat', DecimalType(),True),\n",
    "                        StructField('weather_lon', DecimalType(),True),\n",
    "                        StructField('weather_city_id', IntegerType(),True),\n",
    "                        StructField('weather_city_name', StringType(),True),\n",
    "                        StructField('temp', DecimalType(),True),\n",
    "                        StructField('pressure', IntegerType(),True),\n",
    "\n",
    "                        StructField('humidity', IntegerType(),True),\n",
    "                        StructField('wind_speed', IntegerType(),True),\n",
    "                        StructField('wind_deg', IntegerType(),True),\n",
    "                        StructField('rain_3h', DecimalType(),True),\n",
    "                        StructField('clouds_all', IntegerType(),True),\n",
    "                        StructField('weather_id', IntegerType(),True),\n",
    "                            \n",
    "                        StructField('weather_main', StringType(),True),\n",
    "                        StructField('weather_description', StringType(),True)       \n",
    "                        ]\n",
    "                       \n",
    "                       )\n",
    "\n",
    "df2 = spark.read.load(\"/user/hadoop/SRC_ATM_TRANS/\", format=\"csv\", sep=\",\", schema = fileSchema, header=\"true\")"
   ]
  },
  {
   "cell_type": "code",
   "execution_count": 3,
   "id": "e45642ac",
   "metadata": {
    "execution": {
     "iopub.execute_input": "2022-12-19T11:59:59.957220Z",
     "iopub.status.busy": "2022-12-19T11:59:59.956860Z",
     "iopub.status.idle": "2022-12-19T12:00:00.167810Z",
     "shell.execute_reply": "2022-12-19T12:00:00.166969Z",
     "shell.execute_reply.started": "2022-12-19T11:59:59.957190Z"
    },
    "tags": []
   },
   "outputs": [
    {
     "data": {
      "application/vnd.jupyter.widget-view+json": {
       "model_id": "d2746b29a7f5463090bef66adb71ea88",
       "version_major": 2,
       "version_minor": 0
      },
      "text/plain": [
       "VBox()"
      ]
     },
     "metadata": {},
     "output_type": "display_data"
    },
    {
     "data": {
      "application/vnd.jupyter.widget-view+json": {
       "model_id": "",
       "version_major": 2,
       "version_minor": 0
      },
      "text/plain": [
       "FloatProgress(value=0.0, bar_style='info', description='Progress:', layout=Layout(height='25px', width='50%'),…"
      ]
     },
     "metadata": {},
     "output_type": "display_data"
    },
    {
     "name": "stdout",
     "output_type": "stream",
     "text": [
      "root\n",
      " |-- year: integer (nullable = true)\n",
      " |-- month: string (nullable = true)\n",
      " |-- day: integer (nullable = true)\n",
      " |-- weekday: string (nullable = true)\n",
      " |-- hour: integer (nullable = true)\n",
      " |-- atm_status: string (nullable = true)\n",
      " |-- atm_id: string (nullable = true)\n",
      " |-- atm_manufacturer: string (nullable = true)\n",
      " |-- atm_location: string (nullable = true)\n",
      " |-- atm_streetname: string (nullable = true)\n",
      " |-- atm_street_number: integer (nullable = true)\n",
      " |-- atm_zipcode: integer (nullable = true)\n",
      " |-- atm_lat: decimal(10,0) (nullable = true)\n",
      " |-- atm_lon: decimal(10,0) (nullable = true)\n",
      " |-- currency: string (nullable = true)\n",
      " |-- card_type: string (nullable = true)\n",
      " |-- transaction_amount: decimal(10,0) (nullable = true)\n",
      " |-- service: string (nullable = true)\n",
      " |-- message_code: string (nullable = true)\n",
      " |-- message_text: string (nullable = true)\n",
      " |-- weather_lat: decimal(10,0) (nullable = true)\n",
      " |-- weather_lon: decimal(10,0) (nullable = true)\n",
      " |-- weather_city_id: integer (nullable = true)\n",
      " |-- weather_city_name: string (nullable = true)\n",
      " |-- temp: decimal(10,0) (nullable = true)\n",
      " |-- pressure: integer (nullable = true)\n",
      " |-- humidity: integer (nullable = true)\n",
      " |-- wind_speed: integer (nullable = true)\n",
      " |-- wind_deg: integer (nullable = true)\n",
      " |-- rain_3h: decimal(10,0) (nullable = true)\n",
      " |-- clouds_all: integer (nullable = true)\n",
      " |-- weather_id: integer (nullable = true)\n",
      " |-- weather_main: string (nullable = true)\n",
      " |-- weather_description: string (nullable = true)"
     ]
    }
   ],
   "source": [
    "df2.printSchema()"
   ]
  },
  {
   "cell_type": "code",
   "execution_count": 6,
   "id": "ecb81af8",
   "metadata": {
    "execution": {
     "iopub.execute_input": "2022-12-19T12:00:44.607284Z",
     "iopub.status.busy": "2022-12-19T12:00:44.606981Z",
     "iopub.status.idle": "2022-12-19T12:00:45.643886Z",
     "shell.execute_reply": "2022-12-19T12:00:45.642897Z",
     "shell.execute_reply.started": "2022-12-19T12:00:44.607258Z"
    },
    "tags": []
   },
   "outputs": [
    {
     "data": {
      "application/vnd.jupyter.widget-view+json": {
       "model_id": "37ce07d435ad463d8b1bd41c987326e3",
       "version_major": 2,
       "version_minor": 0
      },
      "text/plain": [
       "VBox()"
      ]
     },
     "metadata": {},
     "output_type": "display_data"
    },
    {
     "data": {
      "application/vnd.jupyter.widget-view+json": {
       "model_id": "",
       "version_major": 2,
       "version_minor": 0
      },
      "text/plain": [
       "FloatProgress(value=0.0, bar_style='info', description='Progress:', layout=Layout(height='25px', width='50%'),…"
      ]
     },
     "metadata": {},
     "output_type": "display_data"
    },
    {
     "name": "stdout",
     "output_type": "stream",
     "text": [
      "+----+-------+---+-------+----+----------+------+----------------+--------------+-------------------+-----------------+-----------+-------+-------+--------+------------------+------------------+----------+------------+------------+-----------+-----------+---------------+-----------------+----+--------+--------+----------+--------+-------+----------+----------+------------+--------------------+\n",
      "|year|  month|day|weekday|hour|atm_status|atm_id|atm_manufacturer|  atm_location|     atm_streetname|atm_street_number|atm_zipcode|atm_lat|atm_lon|currency|         card_type|transaction_amount|   service|message_code|message_text|weather_lat|weather_lon|weather_city_id|weather_city_name|temp|pressure|humidity|wind_speed|wind_deg|rain_3h|clouds_all|weather_id|weather_main| weather_description|\n",
      "+----+-------+---+-------+----+----------+------+----------------+--------------+-------------------+-----------------+-----------+-------+-------+--------+------------------+------------------+----------+------------+------------+-----------+-----------+---------------+-----------------+----+--------+--------+----------+--------+-------+----------+----------+------------+--------------------+\n",
      "|2017|January|  1| Sunday|   0|  Inactive|     2|             NCR|      Vejgaard|         Hadsundvej|               20|       9000|     57|     10|     DKK|        MasterCard|              1764|Withdrawal|        null|        null|         57|         10|        2616235|   NÃƒÂ¸rresundby| 281|    1020|      93|         9|     250|      1|        92|       500|        Rain|          light rain|\n",
      "|2017|January|  1| Sunday|   0|  Inactive|     2|             NCR|      Vejgaard|         Hadsundvej|               20|       9000|     57|     10|     DKK|              VISA|              1891|Withdrawal|        null|        null|         57|         10|        2616235|   NÃƒÂ¸rresundby| 281|    1020|      93|         9|     250|      1|        92|       500|        Rain|          light rain|\n",
      "|2017|January|  1| Sunday|   0|  Inactive|     3|             NCR|         Ikast|RÃƒÂ¥dhusstrÃƒÂ¦det|               12|       7430|     56|      9|     DKK|              VISA|              4166|Withdrawal|        null|        null|         56|          9|        2619426|            Ikast| 281|    1011|     100|         6|     240|      0|        75|       300|     Drizzle|light intensity d...|\n",
      "|2017|January|  1| Sunday|   0|    Active|     4|             NCR|    Svogerslev|       BrÃƒÂ¸nsager|                1|       4000|     56|     12|     DKK|        MasterCard|              5153|Withdrawal|        null|        null|         56|         12|        2614481|         Roskilde| 281|    1014|      87|         7|     260|      0|        88|       701|        Mist|                mist|\n",
      "|2017|January|  1| Sunday|   0|    Active|     5|             NCR|          Nibe|             Torvet|                1|       9240|     57|     10|     DKK|        MasterCard|              3269|Withdrawal|        null|        null|         57|         10|        2616483|             Nibe| 281|    1020|      93|         9|     250|      1|        92|       500|        Rain|          light rain|\n",
      "|2017|January|  1| Sunday|   0|    Active|     6|             NCR|    Fredericia|   SjÃƒÂ¦llandsgade|               33|       7000|     56|     10|     DKK|        MasterCard|               887|Withdrawal|        null|        null|         56|         10|        2621951|       Fredericia| 281|    1014|      93|         7|     230|      0|        92|       500|        Rain|          light rain|\n",
      "|2017|January|  1| Sunday|   0|    Active|     7| Diebold Nixdorf|     Hjallerup|  Hjallerup Centret|               18|       9320|     57|     10|     DKK|Mastercard - on-us|              4626|Withdrawal|        null|        null|         57|         10|        2620275|        Hjallerup| 281|    1020|      93|         9|     250|      1|        92|       500|        Rain|          light rain|\n",
      "|2017|January|  1| Sunday|   0|    Active|     8|             NCR|   GlyngÃƒÂ¸re|        FÃƒÂ¦rgevej|                1|       7870|     57|      9|     DKK|        MasterCard|               470|Withdrawal|        null|        null|         57|          9|        2615964|    Nykobing Mors| 281|    1011|     100|         6|     240|      0|        75|       300|     Drizzle|light intensity d...|\n",
      "|2017|January|  1| Sunday|   0|    Active|     9| Diebold Nixdorf|       Hadsund|          Storegade|               12|       9560|     57|     10|     DKK|              VISA|              8473|Withdrawal|        null|        null|         57|         10|        2620952|          Hadsund| 281|    1020|      93|         9|     250|      1|        92|       500|        Rain|          light rain|\n",
      "|2017|January|  1| Sunday|   0|    Active|    10|             NCR|NÃƒÂ¸rresundby|             Torvet|                6|       9400|     57|     10|     DKK|           Dankort|               953|Withdrawal|        null|        null|         57|         10|        2624886|          Aalborg| 281|    1020|      93|         9|     250|      1|        92|       500|        Rain|          light rain|\n",
      "+----+-------+---+-------+----+----------+------+----------------+--------------+-------------------+-----------------+-----------+-------+-------+--------+------------------+------------------+----------+------------+------------+-----------+-----------+---------------+-----------------+----+--------+--------+----------+--------+-------+----------+----------+------------+--------------------+\n",
      "only showing top 10 rows"
     ]
    }
   ],
   "source": [
    "df2.show(10)\n"
   ]
  },
  {
   "cell_type": "code",
   "execution_count": 7,
   "id": "0d2d57d8",
   "metadata": {
    "execution": {
     "iopub.execute_input": "2022-12-19T12:00:52.160478Z",
     "iopub.status.busy": "2022-12-19T12:00:52.160169Z",
     "iopub.status.idle": "2022-12-19T12:00:53.166641Z",
     "shell.execute_reply": "2022-12-19T12:00:53.165594Z",
     "shell.execute_reply.started": "2022-12-19T12:00:52.160452Z"
    },
    "tags": []
   },
   "outputs": [
    {
     "data": {
      "application/vnd.jupyter.widget-view+json": {
       "model_id": "ec7d17d669b447748a0a34c9ae284ffa",
       "version_major": 2,
       "version_minor": 0
      },
      "text/plain": [
       "VBox()"
      ]
     },
     "metadata": {},
     "output_type": "display_data"
    },
    {
     "data": {
      "application/vnd.jupyter.widget-view+json": {
       "model_id": "",
       "version_major": 2,
       "version_minor": 0
      },
      "text/plain": [
       "FloatProgress(value=0.0, bar_style='info', description='Progress:', layout=Layout(height='25px', width='50%'),…"
      ]
     },
     "metadata": {},
     "output_type": "display_data"
    },
    {
     "name": "stdout",
     "output_type": "stream",
     "text": [
      "[Row(year=2017, month='January', day=1, weekday='Sunday', hour=0, atm_status='Inactive', atm_id='2', atm_manufacturer='NCR', atm_location='Vejgaard', atm_streetname='Hadsundvej', atm_street_number=20, atm_zipcode=9000, atm_lat=Decimal('57'), atm_lon=Decimal('10'), currency='DKK', card_type='MasterCard', transaction_amount=Decimal('1764'), service='Withdrawal', message_code=None, message_text=None, weather_lat=Decimal('57'), weather_lon=Decimal('10'), weather_city_id=2616235, weather_city_name='NÃƒÂ¸rresundby', temp=Decimal('281'), pressure=1020, humidity=93, wind_speed=9, wind_deg=250, rain_3h=Decimal('1'), clouds_all=92, weather_id=500, weather_main='Rain', weather_description='light rain'), Row(year=2017, month='January', day=1, weekday='Sunday', hour=0, atm_status='Inactive', atm_id='2', atm_manufacturer='NCR', atm_location='Vejgaard', atm_streetname='Hadsundvej', atm_street_number=20, atm_zipcode=9000, atm_lat=Decimal('57'), atm_lon=Decimal('10'), currency='DKK', card_type='VISA', transaction_amount=Decimal('1891'), service='Withdrawal', message_code=None, message_text=None, weather_lat=Decimal('57'), weather_lon=Decimal('10'), weather_city_id=2616235, weather_city_name='NÃƒÂ¸rresundby', temp=Decimal('281'), pressure=1020, humidity=93, wind_speed=9, wind_deg=250, rain_3h=Decimal('1'), clouds_all=92, weather_id=500, weather_main='Rain', weather_description='light rain'), Row(year=2017, month='January', day=1, weekday='Sunday', hour=0, atm_status='Inactive', atm_id='3', atm_manufacturer='NCR', atm_location='Ikast', atm_streetname='RÃƒÂ¥dhusstrÃƒÂ¦det', atm_street_number=12, atm_zipcode=7430, atm_lat=Decimal('56'), atm_lon=Decimal('9'), currency='DKK', card_type='VISA', transaction_amount=Decimal('4166'), service='Withdrawal', message_code=None, message_text=None, weather_lat=Decimal('56'), weather_lon=Decimal('9'), weather_city_id=2619426, weather_city_name='Ikast', temp=Decimal('281'), pressure=1011, humidity=100, wind_speed=6, wind_deg=240, rain_3h=Decimal('0'), clouds_all=75, weather_id=300, weather_main='Drizzle', weather_description='light intensity drizzle'), Row(year=2017, month='January', day=1, weekday='Sunday', hour=0, atm_status='Active', atm_id='4', atm_manufacturer='NCR', atm_location='Svogerslev', atm_streetname='BrÃƒÂ¸nsager', atm_street_number=1, atm_zipcode=4000, atm_lat=Decimal('56'), atm_lon=Decimal('12'), currency='DKK', card_type='MasterCard', transaction_amount=Decimal('5153'), service='Withdrawal', message_code=None, message_text=None, weather_lat=Decimal('56'), weather_lon=Decimal('12'), weather_city_id=2614481, weather_city_name='Roskilde', temp=Decimal('281'), pressure=1014, humidity=87, wind_speed=7, wind_deg=260, rain_3h=Decimal('0'), clouds_all=88, weather_id=701, weather_main='Mist', weather_description='mist'), Row(year=2017, month='January', day=1, weekday='Sunday', hour=0, atm_status='Active', atm_id='5', atm_manufacturer='NCR', atm_location='Nibe', atm_streetname='Torvet', atm_street_number=1, atm_zipcode=9240, atm_lat=Decimal('57'), atm_lon=Decimal('10'), currency='DKK', card_type='MasterCard', transaction_amount=Decimal('3269'), service='Withdrawal', message_code=None, message_text=None, weather_lat=Decimal('57'), weather_lon=Decimal('10'), weather_city_id=2616483, weather_city_name='Nibe', temp=Decimal('281'), pressure=1020, humidity=93, wind_speed=9, wind_deg=250, rain_3h=Decimal('1'), clouds_all=92, weather_id=500, weather_main='Rain', weather_description='light rain')]"
     ]
    }
   ],
   "source": [
    "df2.head(5)"
   ]
  },
  {
   "cell_type": "markdown",
   "id": "17db0d9f",
   "metadata": {},
   "source": [
    "#### Initiate location dimension modelling starting with dimension"
   ]
  },
  {
   "cell_type": "code",
   "execution_count": 8,
   "id": "528c4615",
   "metadata": {
    "execution": {
     "iopub.execute_input": "2022-12-19T12:00:58.519345Z",
     "iopub.status.busy": "2022-12-19T12:00:58.518971Z",
     "iopub.status.idle": "2022-12-19T12:00:58.825188Z",
     "shell.execute_reply": "2022-12-19T12:00:58.824004Z",
     "shell.execute_reply.started": "2022-12-19T12:00:58.519309Z"
    },
    "tags": []
   },
   "outputs": [
    {
     "data": {
      "application/vnd.jupyter.widget-view+json": {
       "model_id": "2f3b08c6d7304e73a248fbaeb14799a7",
       "version_major": 2,
       "version_minor": 0
      },
      "text/plain": [
       "VBox()"
      ]
     },
     "metadata": {},
     "output_type": "display_data"
    },
    {
     "data": {
      "application/vnd.jupyter.widget-view+json": {
       "model_id": "",
       "version_major": 2,
       "version_minor": 0
      },
      "text/plain": [
       "FloatProgress(value=0.0, bar_style='info', description='Progress:', layout=Layout(height='25px', width='50%'),…"
      ]
     },
     "metadata": {},
     "output_type": "display_data"
    }
   ],
   "source": [
    "#extract location data frame\n",
    "df_location = df2.select(\n",
    "            df2['atm_location'],\n",
    "            df2['atm_streetname'],\n",
    "            df2['atm_street_number'],\n",
    "            df2['atm_zipcode'],\n",
    "            df2['atm_lat'],\n",
    "            df2['atm_lon']\n",
    "           ).distinct()"
   ]
  },
  {
   "cell_type": "code",
   "execution_count": 9,
   "id": "4bcf7015",
   "metadata": {
    "execution": {
     "iopub.execute_input": "2022-12-19T12:02:34.619630Z",
     "iopub.status.busy": "2022-12-19T12:02:34.619145Z",
     "iopub.status.idle": "2022-12-19T12:02:58.805371Z",
     "shell.execute_reply": "2022-12-19T12:02:58.803925Z",
     "shell.execute_reply.started": "2022-12-19T12:02:34.619576Z"
    },
    "tags": []
   },
   "outputs": [
    {
     "data": {
      "application/vnd.jupyter.widget-view+json": {
       "model_id": "66c22ea0eece4219b576096e6847f745",
       "version_major": 2,
       "version_minor": 0
      },
      "text/plain": [
       "VBox()"
      ]
     },
     "metadata": {},
     "output_type": "display_data"
    },
    {
     "data": {
      "application/vnd.jupyter.widget-view+json": {
       "model_id": "",
       "version_major": 2,
       "version_minor": 0
      },
      "text/plain": [
       "FloatProgress(value=0.0, bar_style='info', description='Progress:', layout=Layout(height='25px', width='50%'),…"
      ]
     },
     "metadata": {},
     "output_type": "display_data"
    }
   ],
   "source": [
    "#create location dimension with index field\n",
    "from pyspark.sql.functions import *\n",
    "\n",
    "df_temp = df_location.rdd.zipWithIndex().toDF()\n",
    "dim_location = df_temp.select(col(\"_1.*\"),col(\"_2\").alias('location_id'))"
   ]
  },
  {
   "cell_type": "code",
   "execution_count": 12,
   "id": "4039f2be",
   "metadata": {
    "execution": {
     "iopub.execute_input": "2022-12-19T12:04:12.163283Z",
     "iopub.status.busy": "2022-12-19T12:04:12.162572Z",
     "iopub.status.idle": "2022-12-19T12:04:12.343147Z",
     "shell.execute_reply": "2022-12-19T12:04:12.342273Z",
     "shell.execute_reply.started": "2022-12-19T12:04:12.163237Z"
    },
    "tags": []
   },
   "outputs": [
    {
     "data": {
      "application/vnd.jupyter.widget-view+json": {
       "model_id": "253ac241abf74d79ba0b2aee8418b7fb",
       "version_major": 2,
       "version_minor": 0
      },
      "text/plain": [
       "VBox()"
      ]
     },
     "metadata": {},
     "output_type": "display_data"
    },
    {
     "data": {
      "application/vnd.jupyter.widget-view+json": {
       "model_id": "",
       "version_major": 2,
       "version_minor": 0
      },
      "text/plain": [
       "FloatProgress(value=0.0, bar_style='info', description='Progress:', layout=Layout(height='25px', width='50%'),…"
      ]
     },
     "metadata": {},
     "output_type": "display_data"
    }
   ],
   "source": [
    "# renaming the colums as per requirement\n",
    "dim_location_final = dim_location.withColumnRenamed('atm_location','location')\\\n",
    "                                 .withColumnRenamed('atm_streetname','streetname')\\\n",
    "                                 .withColumnRenamed('atm_street_number','street_number')\\\n",
    "                                 .withColumnRenamed('atm_zipcode','zipcode')\\\n",
    "                                 .withColumnRenamed('atm_lat','lat')\\\n",
    "                                 .withColumnRenamed('atm_lon','lon')"
   ]
  },
  {
   "cell_type": "code",
   "execution_count": 13,
   "id": "f1539415",
   "metadata": {
    "execution": {
     "iopub.execute_input": "2022-12-19T12:04:23.633901Z",
     "iopub.status.busy": "2022-12-19T12:04:23.632044Z",
     "iopub.status.idle": "2022-12-19T12:04:23.911406Z",
     "shell.execute_reply": "2022-12-19T12:04:23.910667Z",
     "shell.execute_reply.started": "2022-12-19T12:04:23.633837Z"
    },
    "tags": []
   },
   "outputs": [
    {
     "data": {
      "application/vnd.jupyter.widget-view+json": {
       "model_id": "2a20ab4713414150995efd69eb359857",
       "version_major": 2,
       "version_minor": 0
      },
      "text/plain": [
       "VBox()"
      ]
     },
     "metadata": {},
     "output_type": "display_data"
    },
    {
     "data": {
      "application/vnd.jupyter.widget-view+json": {
       "model_id": "",
       "version_major": 2,
       "version_minor": 0
      },
      "text/plain": [
       "FloatProgress(value=0.0, bar_style='info', description='Progress:', layout=Layout(height='25px', width='50%'),…"
      ]
     },
     "metadata": {},
     "output_type": "display_data"
    }
   ],
   "source": [
    "#getting final location dimension\n",
    "dim_location_final = dim_location_final.select('location_id', 'location', 'streetname', 'street_number', 'zipcode', 'lat', 'lon')"
   ]
  },
  {
   "cell_type": "code",
   "execution_count": 15,
   "id": "3b4d00f0",
   "metadata": {
    "execution": {
     "iopub.execute_input": "2022-12-19T12:04:52.333077Z",
     "iopub.status.busy": "2022-12-19T12:04:52.332769Z",
     "iopub.status.idle": "2022-12-19T12:04:53.406306Z",
     "shell.execute_reply": "2022-12-19T12:04:53.405277Z",
     "shell.execute_reply.started": "2022-12-19T12:04:52.333050Z"
    },
    "tags": []
   },
   "outputs": [
    {
     "data": {
      "application/vnd.jupyter.widget-view+json": {
       "model_id": "d7e0588c94a54243b3bb9841bc2a0abb",
       "version_major": 2,
       "version_minor": 0
      },
      "text/plain": [
       "VBox()"
      ]
     },
     "metadata": {},
     "output_type": "display_data"
    },
    {
     "data": {
      "application/vnd.jupyter.widget-view+json": {
       "model_id": "",
       "version_major": 2,
       "version_minor": 0
      },
      "text/plain": [
       "FloatProgress(value=0.0, bar_style='info', description='Progress:', layout=Layout(height='25px', width='50%'),…"
      ]
     },
     "metadata": {},
     "output_type": "display_data"
    },
    {
     "name": "stdout",
     "output_type": "stream",
     "text": [
      "+-----------+---------------+----------------+-------------+-------+--------------------+--------------------+\n",
      "|location_id|       location|      streetname|street_number|zipcode|                 lat|                 lon|\n",
      "+-----------+---------------+----------------+-------------+-------+--------------------+--------------------+\n",
      "|          0|        Hadsund|       Storegade|           12|   9560|57.00000000000000...|10.00000000000000...|\n",
      "|          1| Intern  Odense|    FÃƒÂ¦lledvej|            3|   5000|55.00000000000000...|10.00000000000000...|\n",
      "|          2|  Frederiksberg| Gammel Kongevej|          157|   1850|56.00000000000000...|13.00000000000000...|\n",
      "|          3|Brugsen i Breum|   AakjÃƒÂ¦rsvej|            1|   7870|57.00000000000000...|9.000000000000000000|\n",
      "|          4|Drive Up  Vejle|     Havneparken|            4|   7100|56.00000000000000...|10.00000000000000...|\n",
      "|          5|      Silkeborg|      Borgergade|           36|   8600|56.00000000000000...|10.00000000000000...|\n",
      "|          6|           Aars| Himmerlandsgade|           70|   9600|57.00000000000000...|10.00000000000000...|\n",
      "|          7|        Jebjerg|       Kirkegade|            4|   7870|57.00000000000000...|9.000000000000000000|\n",
      "|          8|    HillerÃƒÂ¸d|KÃƒÂ¸benhavnsvej|           31|   3400|56.00000000000000...|12.00000000000000...|\n",
      "|          9|  Intern  Skive|        Adelgade|            8|   7800|57.00000000000000...|9.000000000000000000|\n",
      "+-----------+---------------+----------------+-------------+-------+--------------------+--------------------+\n",
      "only showing top 10 rows"
     ]
    }
   ],
   "source": [
    "dim_location_final.show(10)"
   ]
  },
  {
   "cell_type": "code",
   "execution_count": 16,
   "id": "3b75a5ff",
   "metadata": {
    "execution": {
     "iopub.execute_input": "2022-12-19T12:04:56.831800Z",
     "iopub.status.busy": "2022-12-19T12:04:56.831397Z",
     "iopub.status.idle": "2022-12-19T12:04:57.509451Z",
     "shell.execute_reply": "2022-12-19T12:04:57.507389Z",
     "shell.execute_reply.started": "2022-12-19T12:04:56.831757Z"
    },
    "tags": []
   },
   "outputs": [
    {
     "data": {
      "application/vnd.jupyter.widget-view+json": {
       "model_id": "9c774292b2d74ff5a9d276ecc4f1f85d",
       "version_major": 2,
       "version_minor": 0
      },
      "text/plain": [
       "VBox()"
      ]
     },
     "metadata": {},
     "output_type": "display_data"
    },
    {
     "data": {
      "application/vnd.jupyter.widget-view+json": {
       "model_id": "",
       "version_major": 2,
       "version_minor": 0
      },
      "text/plain": [
       "FloatProgress(value=0.0, bar_style='info', description='Progress:', layout=Layout(height='25px', width='50%'),…"
      ]
     },
     "metadata": {},
     "output_type": "display_data"
    }
   ],
   "source": [
    "# extract columns for atm dimension\n",
    "atm = df2.select('atm_id', 'atm_manufacturer', 'atm_lat', 'atm_lon').distinct()"
   ]
  },
  {
   "cell_type": "code",
   "execution_count": 17,
   "id": "1785e109",
   "metadata": {
    "execution": {
     "iopub.execute_input": "2022-12-19T12:05:03.167083Z",
     "iopub.status.busy": "2022-12-19T12:05:03.166759Z",
     "iopub.status.idle": "2022-12-19T12:05:03.359994Z",
     "shell.execute_reply": "2022-12-19T12:05:03.359096Z",
     "shell.execute_reply.started": "2022-12-19T12:05:03.167056Z"
    },
    "tags": []
   },
   "outputs": [
    {
     "data": {
      "application/vnd.jupyter.widget-view+json": {
       "model_id": "af58104e5530410399372bc4d81ff549",
       "version_major": 2,
       "version_minor": 0
      },
      "text/plain": [
       "VBox()"
      ]
     },
     "metadata": {},
     "output_type": "display_data"
    },
    {
     "data": {
      "application/vnd.jupyter.widget-view+json": {
       "model_id": "",
       "version_major": 2,
       "version_minor": 0
      },
      "text/plain": [
       "FloatProgress(value=0.0, bar_style='info', description='Progress:', layout=Layout(height='25px', width='50%'),…"
      ]
     },
     "metadata": {},
     "output_type": "display_data"
    }
   ],
   "source": [
    "atm = atm.withColumnRenamed('atm_id', 'atm_number')"
   ]
  },
  {
   "cell_type": "code",
   "execution_count": 18,
   "id": "4ebeac67",
   "metadata": {
    "execution": {
     "iopub.execute_input": "2022-12-19T12:05:12.304864Z",
     "iopub.status.busy": "2022-12-19T12:05:12.304545Z",
     "iopub.status.idle": "2022-12-19T12:05:12.536050Z",
     "shell.execute_reply": "2022-12-19T12:05:12.535047Z",
     "shell.execute_reply.started": "2022-12-19T12:05:12.304836Z"
    },
    "tags": []
   },
   "outputs": [
    {
     "data": {
      "application/vnd.jupyter.widget-view+json": {
       "model_id": "6eff86d02cc54982a1e6804c59356d5a",
       "version_major": 2,
       "version_minor": 0
      },
      "text/plain": [
       "VBox()"
      ]
     },
     "metadata": {},
     "output_type": "display_data"
    },
    {
     "data": {
      "application/vnd.jupyter.widget-view+json": {
       "model_id": "",
       "version_major": 2,
       "version_minor": 0
      },
      "text/plain": [
       "FloatProgress(value=0.0, bar_style='info', description='Progress:', layout=Layout(height='25px', width='50%'),…"
      ]
     },
     "metadata": {},
     "output_type": "display_data"
    }
   ],
   "source": [
    "atm = atm.join(dim_location, on = ['atm_lat', 'atm_lon'], how = \"left\")"
   ]
  },
  {
   "cell_type": "code",
   "execution_count": 19,
   "id": "1cc03efe",
   "metadata": {
    "execution": {
     "iopub.execute_input": "2022-12-19T12:05:15.339712Z",
     "iopub.status.busy": "2022-12-19T12:05:15.338987Z",
     "iopub.status.idle": "2022-12-19T12:05:15.639980Z",
     "shell.execute_reply": "2022-12-19T12:05:15.638887Z",
     "shell.execute_reply.started": "2022-12-19T12:05:15.339665Z"
    },
    "tags": []
   },
   "outputs": [
    {
     "data": {
      "application/vnd.jupyter.widget-view+json": {
       "model_id": "1b80c6bbe8994e10aaeb36421b0b08f7",
       "version_major": 2,
       "version_minor": 0
      },
      "text/plain": [
       "VBox()"
      ]
     },
     "metadata": {},
     "output_type": "display_data"
    },
    {
     "data": {
      "application/vnd.jupyter.widget-view+json": {
       "model_id": "",
       "version_major": 2,
       "version_minor": 0
      },
      "text/plain": [
       "FloatProgress(value=0.0, bar_style='info', description='Progress:', layout=Layout(height='25px', width='50%'),…"
      ]
     },
     "metadata": {},
     "output_type": "display_data"
    },
    {
     "name": "stdout",
     "output_type": "stream",
     "text": [
      "['atm_lat', 'atm_lon', 'atm_number', 'atm_manufacturer', 'atm_location', 'atm_streetname', 'atm_street_number', 'atm_zipcode', 'location_id']"
     ]
    }
   ],
   "source": [
    "atm.columns"
   ]
  },
  {
   "cell_type": "code",
   "execution_count": 20,
   "id": "104bcd41",
   "metadata": {
    "execution": {
     "iopub.execute_input": "2022-12-19T12:05:22.569838Z",
     "iopub.status.busy": "2022-12-19T12:05:22.569501Z",
     "iopub.status.idle": "2022-12-19T12:05:22.856081Z",
     "shell.execute_reply": "2022-12-19T12:05:22.855064Z",
     "shell.execute_reply.started": "2022-12-19T12:05:22.569802Z"
    },
    "tags": []
   },
   "outputs": [
    {
     "data": {
      "application/vnd.jupyter.widget-view+json": {
       "model_id": "0e68f9ae3f6c431c9d355c2814d4fbc1",
       "version_major": 2,
       "version_minor": 0
      },
      "text/plain": [
       "VBox()"
      ]
     },
     "metadata": {},
     "output_type": "display_data"
    },
    {
     "data": {
      "application/vnd.jupyter.widget-view+json": {
       "model_id": "",
       "version_major": 2,
       "version_minor": 0
      },
      "text/plain": [
       "FloatProgress(value=0.0, bar_style='info', description='Progress:', layout=Layout(height='25px', width='50%'),…"
      ]
     },
     "metadata": {},
     "output_type": "display_data"
    }
   ],
   "source": [
    "# selecting the required columns and making sure records are distinct\n",
    "atm = atm.select('atm_number', 'atm_manufacturer', 'location_id').distinct()"
   ]
  },
  {
   "cell_type": "code",
   "execution_count": 21,
   "id": "42505e21",
   "metadata": {
    "execution": {
     "iopub.execute_input": "2022-12-19T12:05:27.858543Z",
     "iopub.status.busy": "2022-12-19T12:05:27.858010Z",
     "iopub.status.idle": "2022-12-19T12:05:28.108563Z",
     "shell.execute_reply": "2022-12-19T12:05:28.107824Z",
     "shell.execute_reply.started": "2022-12-19T12:05:27.858506Z"
    },
    "tags": []
   },
   "outputs": [
    {
     "data": {
      "application/vnd.jupyter.widget-view+json": {
       "model_id": "8f420a377ad54431af64db2bd036fc4c",
       "version_major": 2,
       "version_minor": 0
      },
      "text/plain": [
       "VBox()"
      ]
     },
     "metadata": {},
     "output_type": "display_data"
    },
    {
     "data": {
      "application/vnd.jupyter.widget-view+json": {
       "model_id": "",
       "version_major": 2,
       "version_minor": 0
      },
      "text/plain": [
       "FloatProgress(value=0.0, bar_style='info', description='Progress:', layout=Layout(height='25px', width='50%'),…"
      ]
     },
     "metadata": {},
     "output_type": "display_data"
    }
   ],
   "source": [
    "# renaming the colums as per requirement\n",
    "atm = atm.withColumnRenamed('location_id', 'atm_location_id')"
   ]
  },
  {
   "cell_type": "code",
   "execution_count": 22,
   "id": "5f939980",
   "metadata": {
    "execution": {
     "iopub.execute_input": "2022-12-19T12:05:30.571363Z",
     "iopub.status.busy": "2022-12-19T12:05:30.570968Z",
     "iopub.status.idle": "2022-12-19T12:05:30.905650Z",
     "shell.execute_reply": "2022-12-19T12:05:30.861992Z",
     "shell.execute_reply.started": "2022-12-19T12:05:30.571261Z"
    },
    "tags": []
   },
   "outputs": [
    {
     "data": {
      "application/vnd.jupyter.widget-view+json": {
       "model_id": "c7de273b1ee24a08b25aac583870634b",
       "version_major": 2,
       "version_minor": 0
      },
      "text/plain": [
       "VBox()"
      ]
     },
     "metadata": {},
     "output_type": "display_data"
    },
    {
     "data": {
      "application/vnd.jupyter.widget-view+json": {
       "model_id": "",
       "version_major": 2,
       "version_minor": 0
      },
      "text/plain": [
       "FloatProgress(value=0.0, bar_style='info', description='Progress:', layout=Layout(height='25px', width='50%'),…"
      ]
     },
     "metadata": {},
     "output_type": "display_data"
    },
    {
     "name": "stdout",
     "output_type": "stream",
     "text": [
      "['atm_number', 'atm_manufacturer', 'atm_location_id']"
     ]
    }
   ],
   "source": [
    "atm.columns"
   ]
  },
  {
   "cell_type": "code",
   "execution_count": 23,
   "id": "bdb239a0",
   "metadata": {
    "execution": {
     "iopub.execute_input": "2022-12-19T12:05:36.825888Z",
     "iopub.status.busy": "2022-12-19T12:05:36.825563Z",
     "iopub.status.idle": "2022-12-19T12:05:53.223762Z",
     "shell.execute_reply": "2022-12-19T12:05:53.222633Z",
     "shell.execute_reply.started": "2022-12-19T12:05:36.825859Z"
    },
    "tags": []
   },
   "outputs": [
    {
     "data": {
      "application/vnd.jupyter.widget-view+json": {
       "model_id": "4c0c9296c7674ffa8c64a25d47d211da",
       "version_major": 2,
       "version_minor": 0
      },
      "text/plain": [
       "VBox()"
      ]
     },
     "metadata": {},
     "output_type": "display_data"
    },
    {
     "data": {
      "application/vnd.jupyter.widget-view+json": {
       "model_id": "",
       "version_major": 2,
       "version_minor": 0
      },
      "text/plain": [
       "FloatProgress(value=0.0, bar_style='info', description='Progress:', layout=Layout(height='25px', width='50%'),…"
      ]
     },
     "metadata": {},
     "output_type": "display_data"
    },
    {
     "name": "stdout",
     "output_type": "stream",
     "text": [
      "+----------+----------------+---------------+------+\n",
      "|atm_number|atm_manufacturer|atm_location_id|atm_id|\n",
      "+----------+----------------+---------------+------+\n",
      "|        62| Diebold Nixdorf|             52|     0|\n",
      "|        65|             NCR|             80|     1|\n",
      "|        62| Diebold Nixdorf|            107|     2|\n",
      "|         5|             NCR|             96|     3|\n",
      "|        62| Diebold Nixdorf|             63|     4|\n",
      "+----------+----------------+---------------+------+\n",
      "only showing top 5 rows"
     ]
    }
   ],
   "source": [
    "#creating atm_dimension with indexed field\n",
    "df_temp = atm.rdd.zipWithIndex().toDF()\n",
    "dim_atm = df_temp.select(col(\"_1.*\"),col(\"_2\").alias('atm_id'))\n",
    "dim_atm.show(5)"
   ]
  },
  {
   "cell_type": "code",
   "execution_count": 24,
   "id": "8ea738b6",
   "metadata": {
    "execution": {
     "iopub.execute_input": "2022-12-19T12:05:55.428176Z",
     "iopub.status.busy": "2022-12-19T12:05:55.427807Z",
     "iopub.status.idle": "2022-12-19T12:05:56.311760Z",
     "shell.execute_reply": "2022-12-19T12:05:56.310553Z",
     "shell.execute_reply.started": "2022-12-19T12:05:55.428136Z"
    },
    "tags": []
   },
   "outputs": [
    {
     "data": {
      "application/vnd.jupyter.widget-view+json": {
       "model_id": "bda42bb7c46143e5bd08ee0966ea8462",
       "version_major": 2,
       "version_minor": 0
      },
      "text/plain": [
       "VBox()"
      ]
     },
     "metadata": {},
     "output_type": "display_data"
    },
    {
     "data": {
      "application/vnd.jupyter.widget-view+json": {
       "model_id": "",
       "version_major": 2,
       "version_minor": 0
      },
      "text/plain": [
       "FloatProgress(value=0.0, bar_style='info', description='Progress:', layout=Layout(height='25px', width='50%'),…"
      ]
     },
     "metadata": {},
     "output_type": "display_data"
    }
   ],
   "source": [
    "#creating final atm dimension\n",
    "dim_atm_final = dim_atm.select('atm_id', 'atm_number', 'atm_manufacturer', 'atm_location_id')"
   ]
  },
  {
   "cell_type": "code",
   "execution_count": 25,
   "id": "c30a46cd",
   "metadata": {
    "execution": {
     "iopub.execute_input": "2022-12-19T12:05:59.419056Z",
     "iopub.status.busy": "2022-12-19T12:05:59.418661Z",
     "iopub.status.idle": "2022-12-19T12:06:01.024640Z",
     "shell.execute_reply": "2022-12-19T12:06:01.023945Z",
     "shell.execute_reply.started": "2022-12-19T12:05:59.419014Z"
    },
    "tags": []
   },
   "outputs": [
    {
     "data": {
      "application/vnd.jupyter.widget-view+json": {
       "model_id": "c30a5159e9cc4f528a8821edcd0ced24",
       "version_major": 2,
       "version_minor": 0
      },
      "text/plain": [
       "VBox()"
      ]
     },
     "metadata": {},
     "output_type": "display_data"
    },
    {
     "data": {
      "application/vnd.jupyter.widget-view+json": {
       "model_id": "",
       "version_major": 2,
       "version_minor": 0
      },
      "text/plain": [
       "FloatProgress(value=0.0, bar_style='info', description='Progress:', layout=Layout(height='25px', width='50%'),…"
      ]
     },
     "metadata": {},
     "output_type": "display_data"
    },
    {
     "name": "stdout",
     "output_type": "stream",
     "text": [
      "2432"
     ]
    }
   ],
   "source": [
    "# validating the count of the dataframe\n",
    "dim_atm_final.select('*').count()"
   ]
  },
  {
   "cell_type": "code",
   "execution_count": 26,
   "id": "022d7be5",
   "metadata": {
    "execution": {
     "iopub.execute_input": "2022-12-19T12:06:04.343834Z",
     "iopub.status.busy": "2022-12-19T12:06:04.328091Z",
     "iopub.status.idle": "2022-12-19T12:06:05.610815Z",
     "shell.execute_reply": "2022-12-19T12:06:05.609824Z",
     "shell.execute_reply.started": "2022-12-19T12:06:04.343785Z"
    },
    "tags": []
   },
   "outputs": [
    {
     "data": {
      "application/vnd.jupyter.widget-view+json": {
       "model_id": "c2171d656f9a44028621932e70b6af27",
       "version_major": 2,
       "version_minor": 0
      },
      "text/plain": [
       "VBox()"
      ]
     },
     "metadata": {},
     "output_type": "display_data"
    },
    {
     "data": {
      "application/vnd.jupyter.widget-view+json": {
       "model_id": "",
       "version_major": 2,
       "version_minor": 0
      },
      "text/plain": [
       "FloatProgress(value=0.0, bar_style='info', description='Progress:', layout=Layout(height='25px', width='50%'),…"
      ]
     },
     "metadata": {},
     "output_type": "display_data"
    }
   ],
   "source": [
    "#extract columns for date dimension\n",
    "date = df2.select('year','month','day','weekday','hour').distinct()"
   ]
  },
  {
   "cell_type": "code",
   "execution_count": 27,
   "id": "dfa022ba",
   "metadata": {
    "execution": {
     "iopub.execute_input": "2022-12-19T12:06:08.370076Z",
     "iopub.status.busy": "2022-12-19T12:06:08.367318Z",
     "iopub.status.idle": "2022-12-19T12:06:09.463840Z",
     "shell.execute_reply": "2022-12-19T12:06:09.462912Z",
     "shell.execute_reply.started": "2022-12-19T12:06:08.370025Z"
    },
    "tags": []
   },
   "outputs": [
    {
     "data": {
      "application/vnd.jupyter.widget-view+json": {
       "model_id": "ea32c291e5c84d549379f42852f36970",
       "version_major": 2,
       "version_minor": 0
      },
      "text/plain": [
       "VBox()"
      ]
     },
     "metadata": {},
     "output_type": "display_data"
    },
    {
     "data": {
      "application/vnd.jupyter.widget-view+json": {
       "model_id": "",
       "version_major": 2,
       "version_minor": 0
      },
      "text/plain": [
       "FloatProgress(value=0.0, bar_style='info', description='Progress:', layout=Layout(height='25px', width='50%'),…"
      ]
     },
     "metadata": {},
     "output_type": "display_data"
    }
   ],
   "source": [
    "#add transformed columns for date dimension as per requirement\n",
    "date = date.withColumn('full_date', concat_ws('-', date.year, date.month, date.day))\n",
    "date = date.withColumn('full_time', concat_ws(':', date.hour, lit('00'), lit('00')))\n",
    "date = date.withColumn('full_date_time', concat_ws(' ', date.full_date, date.full_time))\n",
    "pattern = 'yyyy-MMM-dd HH:mm:ss'\n",
    "date = date.withColumn('full_date_time', unix_timestamp(date.full_date_time, pattern).cast('timestamp'))"
   ]
  },
  {
   "cell_type": "code",
   "execution_count": 28,
   "id": "5969cc22",
   "metadata": {
    "execution": {
     "iopub.execute_input": "2022-12-19T12:06:18.367103Z",
     "iopub.status.busy": "2022-12-19T12:06:18.366713Z",
     "iopub.status.idle": "2022-12-19T12:06:26.113599Z",
     "shell.execute_reply": "2022-12-19T12:06:26.112406Z",
     "shell.execute_reply.started": "2022-12-19T12:06:18.367070Z"
    },
    "tags": []
   },
   "outputs": [
    {
     "data": {
      "application/vnd.jupyter.widget-view+json": {
       "model_id": "62083656d42c4a4d9852d3072d8a4640",
       "version_major": 2,
       "version_minor": 0
      },
      "text/plain": [
       "VBox()"
      ]
     },
     "metadata": {},
     "output_type": "display_data"
    },
    {
     "data": {
      "application/vnd.jupyter.widget-view+json": {
       "model_id": "",
       "version_major": 2,
       "version_minor": 0
      },
      "text/plain": [
       "FloatProgress(value=0.0, bar_style='info', description='Progress:', layout=Layout(height='25px', width='50%'),…"
      ]
     },
     "metadata": {},
     "output_type": "display_data"
    },
    {
     "name": "stdout",
     "output_type": "stream",
     "text": [
      "+----+--------+---+---------+----+----------------+---------+-------------------+\n",
      "|year|   month|day|  weekday|hour|       full_date|full_time|     full_date_time|\n",
      "+----+--------+---+---------+----+----------------+---------+-------------------+\n",
      "|2017| January|  5| Thursday|  21|  2017-January-5| 21:00:00|2017-01-05 21:00:00|\n",
      "|2017| January| 22|   Sunday|  15| 2017-January-22| 15:00:00|2017-01-22 15:00:00|\n",
      "|2017|   April|  7|   Friday|   9|    2017-April-7|  9:00:00|2017-04-07 09:00:00|\n",
      "|2017| January| 23|   Monday|  18| 2017-January-23| 18:00:00|2017-01-23 18:00:00|\n",
      "|2017|   March| 17|   Friday|   1|   2017-March-17|  1:00:00|2017-03-17 01:00:00|\n",
      "|2017|   March| 27|   Monday|  13|   2017-March-27| 13:00:00|2017-03-27 13:00:00|\n",
      "|2017|   March| 29|Wednesday|   7|   2017-March-29|  7:00:00|2017-03-29 07:00:00|\n",
      "|2017|   March|  4| Saturday|   8|    2017-March-4|  8:00:00|2017-03-04 08:00:00|\n",
      "|2017|   March| 12|   Sunday|  12|   2017-March-12| 12:00:00|2017-03-12 12:00:00|\n",
      "|2017| January|  4|Wednesday|   4|  2017-January-4|  4:00:00|2017-01-04 04:00:00|\n",
      "|2017|February|  8|Wednesday|  13| 2017-February-8| 13:00:00|2017-02-08 13:00:00|\n",
      "|2017|February| 18| Saturday|  21|2017-February-18| 21:00:00|2017-02-18 21:00:00|\n",
      "|2017|February| 28|  Tuesday|  21|2017-February-28| 21:00:00|2017-02-28 21:00:00|\n",
      "|2017| January| 24|  Tuesday|  14| 2017-January-24| 14:00:00|2017-01-24 14:00:00|\n",
      "|2017|February|  6|   Monday|  15| 2017-February-6| 15:00:00|2017-02-06 15:00:00|\n",
      "|2017|   March| 20|   Monday|   9|   2017-March-20|  9:00:00|2017-03-20 09:00:00|\n",
      "|2017| January| 27|   Friday|   2| 2017-January-27|  2:00:00|2017-01-27 02:00:00|\n",
      "|2017|   March|  4| Saturday|   4|    2017-March-4|  4:00:00|2017-03-04 04:00:00|\n",
      "|2017| January| 14| Saturday|   5| 2017-January-14|  5:00:00|2017-01-14 05:00:00|\n",
      "|2017| January| 16|   Monday|  19| 2017-January-16| 19:00:00|2017-01-16 19:00:00|\n",
      "+----+--------+---+---------+----+----------------+---------+-------------------+\n",
      "only showing top 20 rows"
     ]
    }
   ],
   "source": [
    "date.show()"
   ]
  },
  {
   "cell_type": "code",
   "execution_count": 29,
   "id": "c007641a",
   "metadata": {
    "execution": {
     "iopub.execute_input": "2022-12-19T12:06:29.247474Z",
     "iopub.status.busy": "2022-12-19T12:06:29.247152Z",
     "iopub.status.idle": "2022-12-19T12:06:39.245988Z",
     "shell.execute_reply": "2022-12-19T12:06:39.245353Z",
     "shell.execute_reply.started": "2022-12-19T12:06:29.247445Z"
    },
    "tags": []
   },
   "outputs": [
    {
     "data": {
      "application/vnd.jupyter.widget-view+json": {
       "model_id": "3d7c678389704689a87d320c2ad2a690",
       "version_major": 2,
       "version_minor": 0
      },
      "text/plain": [
       "VBox()"
      ]
     },
     "metadata": {},
     "output_type": "display_data"
    },
    {
     "data": {
      "application/vnd.jupyter.widget-view+json": {
       "model_id": "",
       "version_major": 2,
       "version_minor": 0
      },
      "text/plain": [
       "FloatProgress(value=0.0, bar_style='info', description='Progress:', layout=Layout(height='25px', width='50%'),…"
      ]
     },
     "metadata": {},
     "output_type": "display_data"
    }
   ],
   "source": [
    "#generate date dimension with indexed column\n",
    "df_temp = date.rdd.zipWithIndex().toDF()\n",
    "dim_date = df_temp.select(col(\"_1.*\"),col(\"_2\").alias('date_id'))\n",
    "dim_date_final = dim_date.select('date_id', 'full_date_time', 'year', 'month', 'day', 'hour', 'weekday')"
   ]
  },
  {
   "cell_type": "code",
   "execution_count": 30,
   "id": "c0d50e4f",
   "metadata": {
    "execution": {
     "iopub.execute_input": "2022-12-19T12:06:41.386264Z",
     "iopub.status.busy": "2022-12-19T12:06:41.385882Z",
     "iopub.status.idle": "2022-12-19T12:06:42.915853Z",
     "shell.execute_reply": "2022-12-19T12:06:42.914849Z",
     "shell.execute_reply.started": "2022-12-19T12:06:41.386233Z"
    },
    "tags": []
   },
   "outputs": [
    {
     "data": {
      "application/vnd.jupyter.widget-view+json": {
       "model_id": "540010b0f52546a4b3517b1043c5b53a",
       "version_major": 2,
       "version_minor": 0
      },
      "text/plain": [
       "VBox()"
      ]
     },
     "metadata": {},
     "output_type": "display_data"
    },
    {
     "data": {
      "application/vnd.jupyter.widget-view+json": {
       "model_id": "",
       "version_major": 2,
       "version_minor": 0
      },
      "text/plain": [
       "FloatProgress(value=0.0, bar_style='info', description='Progress:', layout=Layout(height='25px', width='50%'),…"
      ]
     },
     "metadata": {},
     "output_type": "display_data"
    },
    {
     "name": "stdout",
     "output_type": "stream",
     "text": [
      "8685"
     ]
    }
   ],
   "source": [
    "dim_date_final.select('*').count()"
   ]
  },
  {
   "cell_type": "code",
   "execution_count": 31,
   "id": "7fd8cbb3",
   "metadata": {
    "execution": {
     "iopub.execute_input": "2022-12-19T12:06:45.426123Z",
     "iopub.status.busy": "2022-12-19T12:06:45.424303Z",
     "iopub.status.idle": "2022-12-19T12:06:46.317814Z",
     "shell.execute_reply": "2022-12-19T12:06:46.315930Z",
     "shell.execute_reply.started": "2022-12-19T12:06:45.425989Z"
    },
    "tags": []
   },
   "outputs": [
    {
     "data": {
      "application/vnd.jupyter.widget-view+json": {
       "model_id": "eb0e6af8ce664a1eb3b1b21487cbff6d",
       "version_major": 2,
       "version_minor": 0
      },
      "text/plain": [
       "VBox()"
      ]
     },
     "metadata": {},
     "output_type": "display_data"
    },
    {
     "data": {
      "application/vnd.jupyter.widget-view+json": {
       "model_id": "",
       "version_major": 2,
       "version_minor": 0
      },
      "text/plain": [
       "FloatProgress(value=0.0, bar_style='info', description='Progress:', layout=Layout(height='25px', width='50%'),…"
      ]
     },
     "metadata": {},
     "output_type": "display_data"
    },
    {
     "name": "stdout",
     "output_type": "stream",
     "text": [
      "['date_id', 'full_date_time', 'year', 'month', 'day', 'hour', 'weekday']"
     ]
    }
   ],
   "source": [
    "dim_date_final.columns"
   ]
  },
  {
   "cell_type": "code",
   "execution_count": 32,
   "id": "e553169a",
   "metadata": {
    "execution": {
     "iopub.execute_input": "2022-12-19T12:06:48.215045Z",
     "iopub.status.busy": "2022-12-19T12:06:48.214629Z",
     "iopub.status.idle": "2022-12-19T12:06:49.058393Z",
     "shell.execute_reply": "2022-12-19T12:06:49.057604Z",
     "shell.execute_reply.started": "2022-12-19T12:06:48.215006Z"
    },
    "tags": []
   },
   "outputs": [
    {
     "data": {
      "application/vnd.jupyter.widget-view+json": {
       "model_id": "67eaba96b77441ceab118d9b713a25d1",
       "version_major": 2,
       "version_minor": 0
      },
      "text/plain": [
       "VBox()"
      ]
     },
     "metadata": {},
     "output_type": "display_data"
    },
    {
     "data": {
      "application/vnd.jupyter.widget-view+json": {
       "model_id": "",
       "version_major": 2,
       "version_minor": 0
      },
      "text/plain": [
       "FloatProgress(value=0.0, bar_style='info', description='Progress:', layout=Layout(height='25px', width='50%'),…"
      ]
     },
     "metadata": {},
     "output_type": "display_data"
    },
    {
     "name": "stdout",
     "output_type": "stream",
     "text": [
      "+-------+-------------------+----+-------+---+----+--------+\n",
      "|date_id|     full_date_time|year|  month|day|hour| weekday|\n",
      "+-------+-------------------+----+-------+---+----+--------+\n",
      "|      0|2017-01-05 21:00:00|2017|January|  5|  21|Thursday|\n",
      "|      1|2017-01-22 15:00:00|2017|January| 22|  15|  Sunday|\n",
      "|      2|2017-04-07 09:00:00|2017|  April|  7|   9|  Friday|\n",
      "|      3|2017-01-23 18:00:00|2017|January| 23|  18|  Monday|\n",
      "|      4|2017-03-17 01:00:00|2017|  March| 17|   1|  Friday|\n",
      "+-------+-------------------+----+-------+---+----+--------+\n",
      "only showing top 5 rows"
     ]
    }
   ],
   "source": [
    "dim_date_final.show(5)"
   ]
  },
  {
   "cell_type": "code",
   "execution_count": 33,
   "id": "ac65041e",
   "metadata": {
    "execution": {
     "iopub.execute_input": "2022-12-19T12:06:51.423901Z",
     "iopub.status.busy": "2022-12-19T12:06:51.423492Z",
     "iopub.status.idle": "2022-12-19T12:06:57.744653Z",
     "shell.execute_reply": "2022-12-19T12:06:57.743672Z",
     "shell.execute_reply.started": "2022-12-19T12:06:51.423858Z"
    },
    "tags": []
   },
   "outputs": [
    {
     "data": {
      "application/vnd.jupyter.widget-view+json": {
       "model_id": "c632a70dd56349c187918d7c7447ff8f",
       "version_major": 2,
       "version_minor": 0
      },
      "text/plain": [
       "VBox()"
      ]
     },
     "metadata": {},
     "output_type": "display_data"
    },
    {
     "data": {
      "application/vnd.jupyter.widget-view+json": {
       "model_id": "",
       "version_major": 2,
       "version_minor": 0
      },
      "text/plain": [
       "FloatProgress(value=0.0, bar_style='info', description='Progress:', layout=Layout(height='25px', width='50%'),…"
      ]
     },
     "metadata": {},
     "output_type": "display_data"
    },
    {
     "name": "stdout",
     "output_type": "stream",
     "text": [
      "+--------------------+------------+\n",
      "|           card_type|card_type_id|\n",
      "+--------------------+------------+\n",
      "|Visa Dankort - on-us|           0|\n",
      "|  Mastercard - on-us|           1|\n",
      "|         HÃƒÂ¦vekort|           2|\n",
      "|            VisaPlus|           3|\n",
      "|     Dankort - on-us|           4|\n",
      "+--------------------+------------+\n",
      "only showing top 5 rows"
     ]
    }
   ],
   "source": [
    "#extract and generated card type dimension\n",
    "card_type = df2.select('card_type').distinct()\n",
    "df_temp = card_type.rdd.zipWithIndex().toDF()\n",
    "dim_card_type = df_temp.select(col(\"_1.*\"),col(\"_2\").alias('card_type_id'))\n",
    "dim_card_type.show(5)"
   ]
  },
  {
   "cell_type": "code",
   "execution_count": 34,
   "id": "8e23e7e7",
   "metadata": {
    "execution": {
     "iopub.execute_input": "2022-12-19T12:07:00.022122Z",
     "iopub.status.busy": "2022-12-19T12:07:00.021068Z",
     "iopub.status.idle": "2022-12-19T12:07:01.316868Z",
     "shell.execute_reply": "2022-12-19T12:07:01.314308Z",
     "shell.execute_reply.started": "2022-12-19T12:07:00.022045Z"
    },
    "tags": []
   },
   "outputs": [
    {
     "data": {
      "application/vnd.jupyter.widget-view+json": {
       "model_id": "bae4f286e94a41acb390ca8f92bab565",
       "version_major": 2,
       "version_minor": 0
      },
      "text/plain": [
       "VBox()"
      ]
     },
     "metadata": {},
     "output_type": "display_data"
    },
    {
     "data": {
      "application/vnd.jupyter.widget-view+json": {
       "model_id": "",
       "version_major": 2,
       "version_minor": 0
      },
      "text/plain": [
       "FloatProgress(value=0.0, bar_style='info', description='Progress:', layout=Layout(height='25px', width='50%'),…"
      ]
     },
     "metadata": {},
     "output_type": "display_data"
    },
    {
     "name": "stdout",
     "output_type": "stream",
     "text": [
      "12"
     ]
    }
   ],
   "source": [
    "#get final card type dim\n",
    "dim_card_type_final = dim_card_type.select('card_type_id', 'card_type')\n",
    "dim_card_type_final.columns\n",
    "dim_card_type_final.select('*').count()"
   ]
  },
  {
   "cell_type": "markdown",
   "id": "20d81cc5",
   "metadata": {},
   "source": [
    "##### Start extracting FACT - ATM Transactions"
   ]
  },
  {
   "cell_type": "code",
   "execution_count": 36,
   "id": "b6f1aa92",
   "metadata": {
    "execution": {
     "iopub.execute_input": "2022-12-19T12:07:50.541321Z",
     "iopub.status.busy": "2022-12-19T12:07:50.540821Z",
     "iopub.status.idle": "2022-12-19T12:07:50.818638Z",
     "shell.execute_reply": "2022-12-19T12:07:50.817763Z",
     "shell.execute_reply.started": "2022-12-19T12:07:50.541287Z"
    },
    "tags": []
   },
   "outputs": [
    {
     "data": {
      "application/vnd.jupyter.widget-view+json": {
       "model_id": "b4960caefc124e688ef9e9800e6d2a24",
       "version_major": 2,
       "version_minor": 0
      },
      "text/plain": [
       "VBox()"
      ]
     },
     "metadata": {},
     "output_type": "display_data"
    },
    {
     "data": {
      "application/vnd.jupyter.widget-view+json": {
       "model_id": "",
       "version_major": 2,
       "version_minor": 0
      },
      "text/plain": [
       "FloatProgress(value=0.0, bar_style='info', description='Progress:', layout=Layout(height='25px', width='50%'),…"
      ]
     },
     "metadata": {},
     "output_type": "display_data"
    }
   ],
   "source": [
    "fact_loc = df2.withColumnRenamed('atm_location','location')\\\n",
    "              .withColumnRenamed('atm_streetname','streetname')\\\n",
    "              .withColumnRenamed('atm_street_number','street_number')\\\n",
    "              .withColumnRenamed('atm_zipcode','zipcode')\\\n",
    "              .withColumnRenamed('atm_lat','lat')\\\n",
    "              .withColumnRenamed('atm_lon','lon')"
   ]
  },
  {
   "cell_type": "code",
   "execution_count": 37,
   "id": "0da7f1f8",
   "metadata": {
    "execution": {
     "iopub.execute_input": "2022-12-19T12:07:53.373838Z",
     "iopub.status.busy": "2022-12-19T12:07:53.373299Z",
     "iopub.status.idle": "2022-12-19T12:07:53.634540Z",
     "shell.execute_reply": "2022-12-19T12:07:53.633856Z",
     "shell.execute_reply.started": "2022-12-19T12:07:53.373743Z"
    },
    "tags": []
   },
   "outputs": [
    {
     "data": {
      "application/vnd.jupyter.widget-view+json": {
       "model_id": "94074d82d3be498480c5ae328f94647e",
       "version_major": 2,
       "version_minor": 0
      },
      "text/plain": [
       "VBox()"
      ]
     },
     "metadata": {},
     "output_type": "display_data"
    },
    {
     "data": {
      "application/vnd.jupyter.widget-view+json": {
       "model_id": "",
       "version_major": 2,
       "version_minor": 0
      },
      "text/plain": [
       "FloatProgress(value=0.0, bar_style='info', description='Progress:', layout=Layout(height='25px', width='50%'),…"
      ]
     },
     "metadata": {},
     "output_type": "display_data"
    },
    {
     "name": "stdout",
     "output_type": "stream",
     "text": [
      "['location', 'streetname', 'street_number', 'zipcode', 'lat', 'lon', 'year', 'month', 'day', 'weekday', 'hour', 'atm_status', 'atm_id', 'atm_manufacturer', 'currency', 'card_type', 'transaction_amount', 'service', 'message_code', 'message_text', 'weather_lat', 'weather_lon', 'weather_city_id', 'weather_city_name', 'temp', 'pressure', 'humidity', 'wind_speed', 'wind_deg', 'rain_3h', 'clouds_all', 'weather_id', 'weather_main', 'weather_description', 'location_id']"
     ]
    }
   ],
   "source": [
    "fact_loc = fact_loc.join(dim_location_final, on = ['location', 'streetname', 'street_number', 'zipcode', 'lat', 'lon'], how = \"left\")\n",
    "fact_loc.columns"
   ]
  },
  {
   "cell_type": "code",
   "execution_count": 38,
   "id": "2f3c23b4",
   "metadata": {
    "execution": {
     "iopub.execute_input": "2022-12-19T12:07:56.001310Z",
     "iopub.status.busy": "2022-12-19T12:07:56.000973Z",
     "iopub.status.idle": "2022-12-19T12:07:56.329320Z",
     "shell.execute_reply": "2022-12-19T12:07:56.328084Z",
     "shell.execute_reply.started": "2022-12-19T12:07:56.001280Z"
    },
    "tags": []
   },
   "outputs": [
    {
     "data": {
      "application/vnd.jupyter.widget-view+json": {
       "model_id": "2a7ec2db819a43b6a71679b61b4d81ee",
       "version_major": 2,
       "version_minor": 0
      },
      "text/plain": [
       "VBox()"
      ]
     },
     "metadata": {},
     "output_type": "display_data"
    },
    {
     "data": {
      "application/vnd.jupyter.widget-view+json": {
       "model_id": "",
       "version_major": 2,
       "version_minor": 0
      },
      "text/plain": [
       "FloatProgress(value=0.0, bar_style='info', description='Progress:', layout=Layout(height='25px', width='50%'),…"
      ]
     },
     "metadata": {},
     "output_type": "display_data"
    }
   ],
   "source": [
    "fact_loc = fact_loc.withColumnRenamed('atm_id', 'atm_number').withColumnRenamed('location_id', 'atm_location_id')"
   ]
  },
  {
   "cell_type": "code",
   "execution_count": 39,
   "id": "3128e1e2",
   "metadata": {
    "execution": {
     "iopub.execute_input": "2022-12-19T12:07:59.194455Z",
     "iopub.status.busy": "2022-12-19T12:07:59.194128Z",
     "iopub.status.idle": "2022-12-19T12:08:23.424809Z",
     "shell.execute_reply": "2022-12-19T12:08:23.423617Z",
     "shell.execute_reply.started": "2022-12-19T12:07:59.194429Z"
    },
    "tags": []
   },
   "outputs": [
    {
     "data": {
      "application/vnd.jupyter.widget-view+json": {
       "model_id": "488a6fa6ba62480cb6193c77966f2e7a",
       "version_major": 2,
       "version_minor": 0
      },
      "text/plain": [
       "VBox()"
      ]
     },
     "metadata": {},
     "output_type": "display_data"
    },
    {
     "data": {
      "application/vnd.jupyter.widget-view+json": {
       "model_id": "",
       "version_major": 2,
       "version_minor": 0
      },
      "text/plain": [
       "FloatProgress(value=0.0, bar_style='info', description='Progress:', layout=Layout(height='25px', width='50%'),…"
      ]
     },
     "metadata": {},
     "output_type": "display_data"
    },
    {
     "name": "stdout",
     "output_type": "stream",
     "text": [
      "+-----------+-----------+-------------+-------+---+---+----+-------+---+-------+----+----------+----------+----------------+--------+----------+------------------+----------+------------+------------+-----------+-----------+---------------+-----------------+----+--------+--------+----------+--------+-------+----------+----------+------------+--------------------+---------------+\n",
      "|   location| streetname|street_number|zipcode|lat|lon|year|  month|day|weekday|hour|atm_status|atm_number|atm_manufacturer|currency| card_type|transaction_amount|   service|message_code|message_text|weather_lat|weather_lon|weather_city_id|weather_city_name|temp|pressure|humidity|wind_speed|wind_deg|rain_3h|clouds_all|weather_id|weather_main| weather_description|atm_location_id|\n",
      "+-----------+-----------+-------------+-------+---+---+----+-------+---+-------+----+----------+----------+----------------+--------+----------+------------------+----------+------------+------------+-----------+-----------+---------------+-----------------+----+--------+--------+----------+--------+-------+----------+----------+------------+--------------------+---------------+\n",
      "|GlyngÃƒÂ¸re|FÃƒÂ¦rgevej|            1|   7870| 57|  9|2017|January|  1| Sunday|   0|    Active|         8|             NCR|     DKK|MasterCard|               470|Withdrawal|        null|        null|         57|          9|        2615964|    Nykobing Mors| 281|    1011|     100|         6|     240|      0|        75|       300|     Drizzle|light intensity d...|             41|\n",
      "+-----------+-----------+-------------+-------+---+---+----+-------+---+-------+----+----------+----------+----------------+--------+----------+------------------+----------+------------+------------+-----------+-----------+---------------+-----------------+----+--------+--------+----------+--------+-------+----------+----------+------------+--------------------+---------------+\n",
      "only showing top 1 row"
     ]
    }
   ],
   "source": [
    "fact_loc.show(1)"
   ]
  },
  {
   "cell_type": "code",
   "execution_count": 40,
   "id": "06dc7f39",
   "metadata": {
    "execution": {
     "iopub.execute_input": "2022-12-19T12:08:26.017846Z",
     "iopub.status.busy": "2022-12-19T12:08:26.017538Z",
     "iopub.status.idle": "2022-12-19T12:08:26.320736Z",
     "shell.execute_reply": "2022-12-19T12:08:26.319648Z",
     "shell.execute_reply.started": "2022-12-19T12:08:26.017818Z"
    },
    "tags": []
   },
   "outputs": [
    {
     "data": {
      "application/vnd.jupyter.widget-view+json": {
       "model_id": "1767573591d34234b574adeb4745f1c9",
       "version_major": 2,
       "version_minor": 0
      },
      "text/plain": [
       "VBox()"
      ]
     },
     "metadata": {},
     "output_type": "display_data"
    },
    {
     "data": {
      "application/vnd.jupyter.widget-view+json": {
       "model_id": "",
       "version_major": 2,
       "version_minor": 0
      },
      "text/plain": [
       "FloatProgress(value=0.0, bar_style='info', description='Progress:', layout=Layout(height='25px', width='50%'),…"
      ]
     },
     "metadata": {},
     "output_type": "display_data"
    }
   ],
   "source": [
    "fact_atm = fact_loc.join(dim_atm_final, on = ['atm_number', 'atm_manufacturer', 'atm_location_id'], how = \"left\")"
   ]
  },
  {
   "cell_type": "code",
   "execution_count": 41,
   "id": "bd8652dc",
   "metadata": {
    "execution": {
     "iopub.execute_input": "2022-12-19T12:08:27.962169Z",
     "iopub.status.busy": "2022-12-19T12:08:27.961516Z",
     "iopub.status.idle": "2022-12-19T12:08:28.307802Z",
     "shell.execute_reply": "2022-12-19T12:08:28.307047Z",
     "shell.execute_reply.started": "2022-12-19T12:08:27.962122Z"
    },
    "tags": []
   },
   "outputs": [
    {
     "data": {
      "application/vnd.jupyter.widget-view+json": {
       "model_id": "40e0eb896588486e8c19c65786639f17",
       "version_major": 2,
       "version_minor": 0
      },
      "text/plain": [
       "VBox()"
      ]
     },
     "metadata": {},
     "output_type": "display_data"
    },
    {
     "data": {
      "application/vnd.jupyter.widget-view+json": {
       "model_id": "",
       "version_major": 2,
       "version_minor": 0
      },
      "text/plain": [
       "FloatProgress(value=0.0, bar_style='info', description='Progress:', layout=Layout(height='25px', width='50%'),…"
      ]
     },
     "metadata": {},
     "output_type": "display_data"
    }
   ],
   "source": [
    "fact_atm = fact_atm.withColumnRenamed('atm_location_id', 'weather_loc_id')"
   ]
  },
  {
   "cell_type": "code",
   "execution_count": 42,
   "id": "f156483b",
   "metadata": {
    "execution": {
     "iopub.execute_input": "2022-12-19T12:08:30.615186Z",
     "iopub.status.busy": "2022-12-19T12:08:30.614710Z",
     "iopub.status.idle": "2022-12-19T12:08:30.926455Z",
     "shell.execute_reply": "2022-12-19T12:08:30.925152Z",
     "shell.execute_reply.started": "2022-12-19T12:08:30.615137Z"
    },
    "tags": []
   },
   "outputs": [
    {
     "data": {
      "application/vnd.jupyter.widget-view+json": {
       "model_id": "69b3308a62fe475ca7e963c89ef84cf2",
       "version_major": 2,
       "version_minor": 0
      },
      "text/plain": [
       "VBox()"
      ]
     },
     "metadata": {},
     "output_type": "display_data"
    },
    {
     "data": {
      "application/vnd.jupyter.widget-view+json": {
       "model_id": "",
       "version_major": 2,
       "version_minor": 0
      },
      "text/plain": [
       "FloatProgress(value=0.0, bar_style='info', description='Progress:', layout=Layout(height='25px', width='50%'),…"
      ]
     },
     "metadata": {},
     "output_type": "display_data"
    }
   ],
   "source": [
    "fact_date = fact_atm.join(dim_date_final, on = ['year', 'month', 'day', 'hour', 'weekday'], how = \"left\")"
   ]
  },
  {
   "cell_type": "code",
   "execution_count": 43,
   "id": "6102af9a",
   "metadata": {
    "execution": {
     "iopub.execute_input": "2022-12-19T12:08:32.270054Z",
     "iopub.status.busy": "2022-12-19T12:08:32.269736Z",
     "iopub.status.idle": "2022-12-19T12:08:32.616779Z",
     "shell.execute_reply": "2022-12-19T12:08:32.608728Z",
     "shell.execute_reply.started": "2022-12-19T12:08:32.270025Z"
    },
    "tags": []
   },
   "outputs": [
    {
     "data": {
      "application/vnd.jupyter.widget-view+json": {
       "model_id": "66f80514667146b2ab41bdac6fa2ea04",
       "version_major": 2,
       "version_minor": 0
      },
      "text/plain": [
       "VBox()"
      ]
     },
     "metadata": {},
     "output_type": "display_data"
    },
    {
     "data": {
      "application/vnd.jupyter.widget-view+json": {
       "model_id": "",
       "version_major": 2,
       "version_minor": 0
      },
      "text/plain": [
       "FloatProgress(value=0.0, bar_style='info', description='Progress:', layout=Layout(height='25px', width='50%'),…"
      ]
     },
     "metadata": {},
     "output_type": "display_data"
    }
   ],
   "source": [
    "fact_atm_trans = fact_date.join(dim_card_type_final, on = ['card_type'], how = \"left\")"
   ]
  },
  {
   "cell_type": "code",
   "execution_count": 44,
   "id": "cde7be2e",
   "metadata": {
    "execution": {
     "iopub.execute_input": "2022-12-19T12:08:35.535307Z",
     "iopub.status.busy": "2022-12-19T12:08:35.533563Z",
     "iopub.status.idle": "2022-12-19T12:09:10.229412Z",
     "shell.execute_reply": "2022-12-19T12:09:10.227415Z",
     "shell.execute_reply.started": "2022-12-19T12:08:35.535242Z"
    },
    "tags": []
   },
   "outputs": [
    {
     "data": {
      "application/vnd.jupyter.widget-view+json": {
       "model_id": "08f6b127f7ae4f62a83d842f21c4c8f8",
       "version_major": 2,
       "version_minor": 0
      },
      "text/plain": [
       "VBox()"
      ]
     },
     "metadata": {},
     "output_type": "display_data"
    },
    {
     "data": {
      "application/vnd.jupyter.widget-view+json": {
       "model_id": "",
       "version_major": 2,
       "version_minor": 0
      },
      "text/plain": [
       "FloatProgress(value=0.0, bar_style='info', description='Progress:', layout=Layout(height='25px', width='50%'),…"
      ]
     },
     "metadata": {},
     "output_type": "display_data"
    },
    {
     "name": "stdout",
     "output_type": "stream",
     "text": [
      "+-------------------+----+-------+---+----+--------+----------+----------------+--------------+-----------+-----------+-------------+-------+---+---+----------+--------+------------------+----------+------------+--------------------+-----------+-----------+---------------+-----------------+----+--------+--------+----------+--------+-------+----------+----------+------------+-------------------+------+-------+-------------------+------------+--------+\n",
      "|          card_type|year|  month|day|hour| weekday|atm_number|atm_manufacturer|weather_loc_id|   location| streetname|street_number|zipcode|lat|lon|atm_status|currency|transaction_amount|   service|message_code|        message_text|weather_lat|weather_lon|weather_city_id|weather_city_name|temp|pressure|humidity|wind_speed|wind_deg|rain_3h|clouds_all|weather_id|weather_main|weather_description|atm_id|date_id|     full_date_time|card_type_id|trans_id|\n",
      "+-------------------+----+-------+---+----+--------+----------+----------------+--------------+-----------+-----------+-------------+-------+---+---+----------+--------+------------------+----------+------------+--------------------+-----------+-----------+---------------+-----------------+----+--------+--------+----------+--------+-------+----------+----------+------------+-------------------+------+-------+-------------------+------------+--------+\n",
      "|HÃƒÂ¦vekort - on-us|2017|January|  5|  21|Thursday|         8|             NCR|            41|GlyngÃƒÂ¸re|FÃƒÂ¦rgevej|            1|   7870| 57|  9|    Active|     DKK|              9832|Withdrawal|        4017|Suspected malfunc...|       null|       null|           null|             null|null|    null|    null|      null|    null|   null|      null|      null|        null|               null|   627|      0|2017-01-05 21:00:00|           6|       1|\n",
      "+-------------------+----+-------+---+----+--------+----------+----------------+--------------+-----------+-----------+-------------+-------+---+---+----------+--------+------------------+----------+------------+--------------------+-----------+-----------+---------------+-----------------+----+--------+--------+----------+--------+-------+----------+----------+------------+-------------------+------+-------+-------------------+------------+--------+\n",
      "only showing top 1 row"
     ]
    }
   ],
   "source": [
    "from pyspark.sql.window import Window\n",
    "\n",
    "w = Window().orderBy('date_id')\n",
    "fact_atm_tran = fact_atm_trans.withColumn(\"trans_id\", row_number().over(w))\n",
    "fact_atm_tran.show(1, True)"
   ]
  },
  {
   "cell_type": "code",
   "execution_count": 45,
   "id": "b443d92f",
   "metadata": {
    "execution": {
     "iopub.execute_input": "2022-12-19T12:09:10.233081Z",
     "iopub.status.busy": "2022-12-19T12:09:10.232321Z",
     "iopub.status.idle": "2022-12-19T12:09:10.600499Z",
     "shell.execute_reply": "2022-12-19T12:09:10.581500Z",
     "shell.execute_reply.started": "2022-12-19T12:09:10.233037Z"
    },
    "tags": []
   },
   "outputs": [
    {
     "data": {
      "application/vnd.jupyter.widget-view+json": {
       "model_id": "bf6fd86f09fd4072b63fcc2018460e1e",
       "version_major": 2,
       "version_minor": 0
      },
      "text/plain": [
       "VBox()"
      ]
     },
     "metadata": {},
     "output_type": "display_data"
    },
    {
     "data": {
      "application/vnd.jupyter.widget-view+json": {
       "model_id": "",
       "version_major": 2,
       "version_minor": 0
      },
      "text/plain": [
       "FloatProgress(value=0.0, bar_style='info', description='Progress:', layout=Layout(height='25px', width='50%'),…"
      ]
     },
     "metadata": {},
     "output_type": "display_data"
    },
    {
     "name": "stdout",
     "output_type": "stream",
     "text": [
      "['card_type', 'year', 'month', 'day', 'hour', 'weekday', 'atm_number', 'atm_manufacturer', 'weather_loc_id', 'location', 'streetname', 'street_number', 'zipcode', 'lat', 'lon', 'atm_status', 'currency', 'transaction_amount', 'service', 'message_code', 'message_text', 'weather_lat', 'weather_lon', 'weather_city_id', 'weather_city_name', 'temp', 'pressure', 'humidity', 'wind_speed', 'wind_deg', 'rain_3h', 'clouds_all', 'weather_id', 'weather_main', 'weather_description', 'atm_id', 'date_id', 'full_date_time', 'card_type_id', 'trans_id']"
     ]
    }
   ],
   "source": [
    "fact_atm_tran.columns"
   ]
  },
  {
   "cell_type": "code",
   "execution_count": 46,
   "id": "22cebe7f",
   "metadata": {
    "execution": {
     "iopub.execute_input": "2022-12-19T12:09:14.416600Z",
     "iopub.status.busy": "2022-12-19T12:09:14.416296Z",
     "iopub.status.idle": "2022-12-19T12:09:14.709795Z",
     "shell.execute_reply": "2022-12-19T12:09:14.708630Z",
     "shell.execute_reply.started": "2022-12-19T12:09:14.416574Z"
    },
    "tags": []
   },
   "outputs": [
    {
     "data": {
      "application/vnd.jupyter.widget-view+json": {
       "model_id": "da1038583cd4489291379609a12dcc47",
       "version_major": 2,
       "version_minor": 0
      },
      "text/plain": [
       "VBox()"
      ]
     },
     "metadata": {},
     "output_type": "display_data"
    },
    {
     "data": {
      "application/vnd.jupyter.widget-view+json": {
       "model_id": "",
       "version_major": 2,
       "version_minor": 0
      },
      "text/plain": [
       "FloatProgress(value=0.0, bar_style='info', description='Progress:', layout=Layout(height='25px', width='50%'),…"
      ]
     },
     "metadata": {},
     "output_type": "display_data"
    }
   ],
   "source": [
    "# selecting and arranging only the required columns according to the target model\n",
    "fact_atm_tran = fact_atm_tran.select('trans_id', 'atm_id', 'weather_loc_id', 'date_id', 'card_type_id', \n",
    "'atm_status', 'currency', 'service', 'transaction_amount', 'message_code', 'message_text', 'rain_3h', \n",
    "'clouds_all', 'weather_id', 'weather_main', 'weather_description')"
   ]
  },
  {
   "cell_type": "code",
   "execution_count": 47,
   "id": "03ae8ee6",
   "metadata": {
    "execution": {
     "iopub.execute_input": "2022-12-19T12:09:18.859373Z",
     "iopub.status.busy": "2022-12-19T12:09:18.859031Z",
     "iopub.status.idle": "2022-12-19T12:09:43.330709Z",
     "shell.execute_reply": "2022-12-19T12:09:43.329541Z",
     "shell.execute_reply.started": "2022-12-19T12:09:18.859343Z"
    },
    "tags": []
   },
   "outputs": [
    {
     "data": {
      "application/vnd.jupyter.widget-view+json": {
       "model_id": "97f22b09a0fc4317b7c00d197360513b",
       "version_major": 2,
       "version_minor": 0
      },
      "text/plain": [
       "VBox()"
      ]
     },
     "metadata": {},
     "output_type": "display_data"
    },
    {
     "data": {
      "application/vnd.jupyter.widget-view+json": {
       "model_id": "",
       "version_major": 2,
       "version_minor": 0
      },
      "text/plain": [
       "FloatProgress(value=0.0, bar_style='info', description='Progress:', layout=Layout(height='25px', width='50%'),…"
      ]
     },
     "metadata": {},
     "output_type": "display_data"
    },
    {
     "name": "stdout",
     "output_type": "stream",
     "text": [
      "2468571"
     ]
    }
   ],
   "source": [
    "# validating the count of the dataframe\n",
    "fact_atm_tran.select('*').count()"
   ]
  },
  {
   "cell_type": "markdown",
   "id": "2d6607a3",
   "metadata": {},
   "source": [
    "#### Extract dimensions and fact to AWS S3 bucket"
   ]
  },
  {
   "cell_type": "code",
   "execution_count": 48,
   "id": "53fcd520",
   "metadata": {
    "execution": {
     "iopub.execute_input": "2022-12-19T12:11:23.727577Z",
     "iopub.status.busy": "2022-12-19T12:11:23.727253Z",
     "iopub.status.idle": "2022-12-19T12:11:43.628887Z",
     "shell.execute_reply": "2022-12-19T12:11:43.627926Z",
     "shell.execute_reply.started": "2022-12-19T12:11:23.727550Z"
    },
    "tags": []
   },
   "outputs": [
    {
     "data": {
      "application/vnd.jupyter.widget-view+json": {
       "model_id": "31d572d000344e6db11ca895107c191f",
       "version_major": 2,
       "version_minor": 0
      },
      "text/plain": [
       "VBox()"
      ]
     },
     "metadata": {},
     "output_type": "display_data"
    },
    {
     "data": {
      "application/vnd.jupyter.widget-view+json": {
       "model_id": "",
       "version_major": 2,
       "version_minor": 0
      },
      "text/plain": [
       "FloatProgress(value=0.0, bar_style='info', description='Progress:', layout=Layout(height='25px', width='50%'),…"
      ]
     },
     "metadata": {},
     "output_type": "display_data"
    }
   ],
   "source": [
    "dim_location_final.coalesce(1).write.format('csv').option('header','false').save('s3://vivek-etlprojectbucket01/location_dimension', mode='overwrite')"
   ]
  },
  {
   "cell_type": "code",
   "execution_count": 49,
   "id": "66cfd7aa",
   "metadata": {
    "execution": {
     "iopub.execute_input": "2022-12-19T12:11:50.044458Z",
     "iopub.status.busy": "2022-12-19T12:11:50.044149Z",
     "iopub.status.idle": "2022-12-19T12:11:52.751090Z",
     "shell.execute_reply": "2022-12-19T12:11:52.750063Z",
     "shell.execute_reply.started": "2022-12-19T12:11:50.044431Z"
    }
   },
   "outputs": [
    {
     "data": {
      "application/vnd.jupyter.widget-view+json": {
       "model_id": "6d92055c17974cb897f22763d667c162",
       "version_major": 2,
       "version_minor": 0
      },
      "text/plain": [
       "VBox()"
      ]
     },
     "metadata": {},
     "output_type": "display_data"
    },
    {
     "data": {
      "application/vnd.jupyter.widget-view+json": {
       "model_id": "",
       "version_major": 2,
       "version_minor": 0
      },
      "text/plain": [
       "FloatProgress(value=0.0, bar_style='info', description='Progress:', layout=Layout(height='25px', width='50%'),…"
      ]
     },
     "metadata": {},
     "output_type": "display_data"
    }
   ],
   "source": [
    "dim_atm_final.coalesce(1).write.format('csv').option('header','false').save('s3://vivek-etlprojectbucket01/atm_dimension', mode='overwrite')"
   ]
  },
  {
   "cell_type": "code",
   "execution_count": 50,
   "id": "5744e0f8",
   "metadata": {
    "execution": {
     "iopub.execute_input": "2022-12-19T12:11:54.348971Z",
     "iopub.status.busy": "2022-12-19T12:11:54.348565Z",
     "iopub.status.idle": "2022-12-19T12:11:58.082815Z",
     "shell.execute_reply": "2022-12-19T12:11:58.081949Z",
     "shell.execute_reply.started": "2022-12-19T12:11:54.348925Z"
    },
    "tags": []
   },
   "outputs": [
    {
     "data": {
      "application/vnd.jupyter.widget-view+json": {
       "model_id": "ff134dd2cc904a5f82be7037e5d4f233",
       "version_major": 2,
       "version_minor": 0
      },
      "text/plain": [
       "VBox()"
      ]
     },
     "metadata": {},
     "output_type": "display_data"
    },
    {
     "data": {
      "application/vnd.jupyter.widget-view+json": {
       "model_id": "",
       "version_major": 2,
       "version_minor": 0
      },
      "text/plain": [
       "FloatProgress(value=0.0, bar_style='info', description='Progress:', layout=Layout(height='25px', width='50%'),…"
      ]
     },
     "metadata": {},
     "output_type": "display_data"
    }
   ],
   "source": [
    "dim_date_final.coalesce(1).write.format('csv').option('header','false').save('s3://vivek-etlprojectbucket01/date_dimension', mode='overwrite')"
   ]
  },
  {
   "cell_type": "code",
   "execution_count": 51,
   "id": "baab7307",
   "metadata": {
    "execution": {
     "iopub.execute_input": "2022-12-19T12:11:59.695998Z",
     "iopub.status.busy": "2022-12-19T12:11:59.695674Z",
     "iopub.status.idle": "2022-12-19T12:12:02.620823Z",
     "shell.execute_reply": "2022-12-19T12:12:02.609131Z",
     "shell.execute_reply.started": "2022-12-19T12:11:59.695969Z"
    },
    "tags": []
   },
   "outputs": [
    {
     "data": {
      "application/vnd.jupyter.widget-view+json": {
       "model_id": "310c88780aa84bc78ad19f46b2477608",
       "version_major": 2,
       "version_minor": 0
      },
      "text/plain": [
       "VBox()"
      ]
     },
     "metadata": {},
     "output_type": "display_data"
    },
    {
     "data": {
      "application/vnd.jupyter.widget-view+json": {
       "model_id": "",
       "version_major": 2,
       "version_minor": 0
      },
      "text/plain": [
       "FloatProgress(value=0.0, bar_style='info', description='Progress:', layout=Layout(height='25px', width='50%'),…"
      ]
     },
     "metadata": {},
     "output_type": "display_data"
    }
   ],
   "source": [
    "dim_card_type_final.coalesce(1).write.format('csv').option('header','false').save('s3://vivek-etlprojectbucket01/card_type_dimension', mode='overwrite')"
   ]
  },
  {
   "cell_type": "code",
   "execution_count": 52,
   "id": "21e59a27",
   "metadata": {
    "execution": {
     "iopub.execute_input": "2022-12-19T12:12:04.192408Z",
     "iopub.status.busy": "2022-12-19T12:12:04.191765Z",
     "iopub.status.idle": "2022-12-19T12:12:49.258149Z",
     "shell.execute_reply": "2022-12-19T12:12:49.257112Z",
     "shell.execute_reply.started": "2022-12-19T12:12:04.192371Z"
    },
    "tags": []
   },
   "outputs": [
    {
     "data": {
      "application/vnd.jupyter.widget-view+json": {
       "model_id": "0585ce2f5a984a9695de4abe1468cfe7",
       "version_major": 2,
       "version_minor": 0
      },
      "text/plain": [
       "VBox()"
      ]
     },
     "metadata": {},
     "output_type": "display_data"
    },
    {
     "data": {
      "application/vnd.jupyter.widget-view+json": {
       "model_id": "",
       "version_major": 2,
       "version_minor": 0
      },
      "text/plain": [
       "FloatProgress(value=0.0, bar_style='info', description='Progress:', layout=Layout(height='25px', width='50%'),…"
      ]
     },
     "metadata": {},
     "output_type": "display_data"
    }
   ],
   "source": [
    "fact_atm_tran.coalesce(1).write.format('csv').option('header','false').save('s3://vivek-etlprojectbucket01/atm_transaction_fact', mode='overwrite')"
   ]
  },
  {
   "cell_type": "code",
   "execution_count": 55,
   "id": "f1aa258f",
   "metadata": {
    "execution": {
     "iopub.execute_input": "2022-12-19T12:25:04.087681Z",
     "iopub.status.busy": "2022-12-19T12:25:04.087353Z",
     "iopub.status.idle": "2022-12-19T12:25:04.353911Z",
     "shell.execute_reply": "2022-12-19T12:25:04.352914Z",
     "shell.execute_reply.started": "2022-12-19T12:25:04.087655Z"
    },
    "tags": []
   },
   "outputs": [
    {
     "data": {
      "application/vnd.jupyter.widget-view+json": {
       "model_id": "01d48d70f51d4268be85dcc99a09b02c",
       "version_major": 2,
       "version_minor": 0
      },
      "text/plain": [
       "VBox()"
      ]
     },
     "metadata": {},
     "output_type": "display_data"
    },
    {
     "data": {
      "application/vnd.jupyter.widget-view+json": {
       "model_id": "",
       "version_major": 2,
       "version_minor": 0
      },
      "text/plain": [
       "FloatProgress(value=0.0, bar_style='info', description='Progress:', layout=Layout(height='25px', width='50%'),…"
      ]
     },
     "metadata": {},
     "output_type": "display_data"
    },
    {
     "name": "stdout",
     "output_type": "stream",
     "text": [
      "root\n",
      " |-- atm_id: long (nullable = true)\n",
      " |-- atm_number: string (nullable = true)\n",
      " |-- atm_manufacturer: string (nullable = true)\n",
      " |-- atm_location_id: long (nullable = true)"
     ]
    }
   ],
   "source": [
    "dim_atm_final.printSchema()"
   ]
  }
 ],
 "metadata": {
  "kernelspec": {
   "display_name": "PySpark",
   "language": "",
   "name": "pysparkkernel"
  },
  "language_info": {
   "codemirror_mode": {
    "name": "python",
    "version": 2
   },
   "mimetype": "text/x-python",
   "name": "pyspark",
   "pygments_lexer": "python2"
  }
 },
 "nbformat": 4,
 "nbformat_minor": 5
}
